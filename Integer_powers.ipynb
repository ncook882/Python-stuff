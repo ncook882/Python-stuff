{
 "cells": [
  {
   "cell_type": "markdown",
   "metadata": {},
   "source": [
    "# Computing integer powers in Python\n",
    "\n",
    "A quick discussion of computing powers in Python. It would appear that Numpy does not provide an efficient solution for powers > 2, and in fact can be slower than the basic Python implementation `**`.\n",
    "\n",
    "Much more discussion of this can be found online, and a great explanation of different methods of computing powers (some of which scale very well for large exponent) can be found at this [blog post](https://comeoncodeon.wordpress.com/2009/03/02/evaluation-of-powers/)."
   ]
  },
  {
   "cell_type": "code",
   "execution_count": 2,
   "metadata": {
    "collapsed": true
   },
   "outputs": [],
   "source": [
    "import numpy as np\n",
    "import matplotlib.pyplot as plt\n",
    "%matplotlib inline"
   ]
  },
  {
   "cell_type": "markdown",
   "metadata": {},
   "source": [
    "## Compare basic powers\n",
    "\n",
    "Let's start with a simple comparison of Python's native implementation and Numpy's native implementation. We consider the specialized case of squaring the vectors."
   ]
  },
  {
   "cell_type": "code",
   "execution_count": 16,
   "metadata": {
    "collapsed": false
   },
   "outputs": [],
   "source": [
    "num = int(1.e6)\n",
    "vec = np.random.rand(num)"
   ]
  },
  {
   "cell_type": "code",
   "execution_count": 17,
   "metadata": {
    "collapsed": false
   },
   "outputs": [
    {
     "name": "stdout",
     "output_type": "stream",
     "text": [
      "The slowest run took 6.76 times longer than the fastest. This could mean that an intermediate result is being cached.\n",
      "1000 loops, best of 3: 716 µs per loop\n"
     ]
    }
   ],
   "source": [
    "%timeit vec**2"
   ]
  },
  {
   "cell_type": "code",
   "execution_count": 18,
   "metadata": {
    "collapsed": false
   },
   "outputs": [
    {
     "name": "stdout",
     "output_type": "stream",
     "text": [
      "1000 loops, best of 3: 762 µs per loop\n"
     ]
    }
   ],
   "source": [
    "%timeit np.square(vec)"
   ]
  },
  {
   "cell_type": "markdown",
   "metadata": {},
   "source": [
    "So we see that each approach is similarly fast, with numpy exhbiting a slightly longer run time, probably due to overhead. Now test higher powers"
   ]
  },
  {
   "cell_type": "code",
   "execution_count": 20,
   "metadata": {
    "collapsed": false
   },
   "outputs": [
    {
     "name": "stdout",
     "output_type": "stream",
     "text": [
      "10 loops, best of 3: 21.6 ms per loop\n"
     ]
    }
   ],
   "source": [
    "%timeit vec**9"
   ]
  },
  {
   "cell_type": "code",
   "execution_count": 26,
   "metadata": {
    "collapsed": false
   },
   "outputs": [
    {
     "name": "stdout",
     "output_type": "stream",
     "text": [
      "10 loops, best of 3: 22.9 ms per loop\n"
     ]
    }
   ],
   "source": [
    "%timeit np.power(vec,9)"
   ]
  },
  {
   "cell_type": "markdown",
   "metadata": {},
   "source": [
    "Let's check the scaling of these methods."
   ]
  },
  {
   "cell_type": "code",
   "execution_count": 52,
   "metadata": {
    "collapsed": false
   },
   "outputs": [
    {
     "name": "stdout",
     "output_type": "stream",
     "text": [
      "Running for power 0\n",
      "100 loops, best of 3: 5.07 ms per loop\n",
      "100 loops, best of 3: 368 µs per loop\n",
      "Running for power 1\n",
      "100 loops, best of 3: 21.4 ms per loop\n",
      "100 loops, best of 3: 571 µs per loop\n",
      "Running for power 2\n",
      "100 loops, best of 3: 21.6 ms per loop\n",
      "100 loops, best of 3: 716 µs per loop\n",
      "Running for power 3\n",
      "100 loops, best of 3: 22.4 ms per loop\n",
      "100 loops, best of 3: 21.8 ms per loop\n",
      "Running for power 4\n",
      "100 loops, best of 3: 22.4 ms per loop\n",
      "100 loops, best of 3: 21.9 ms per loop\n",
      "Running for power 5\n",
      "100 loops, best of 3: 21.9 ms per loop\n",
      "100 loops, best of 3: 21.6 ms per loop\n",
      "Running for power 6\n",
      "100 loops, best of 3: 21.6 ms per loop\n",
      "100 loops, best of 3: 21.5 ms per loop\n",
      "Running for power 7\n",
      "100 loops, best of 3: 21.6 ms per loop\n",
      "100 loops, best of 3: 21.5 ms per loop\n",
      "Running for power 8\n",
      "100 loops, best of 3: 21.6 ms per loop\n",
      "100 loops, best of 3: 21.8 ms per loop\n",
      "Running for power 9\n",
      "100 loops, best of 3: 21.6 ms per loop\n",
      "100 loops, best of 3: 21.5 ms per loop\n"
     ]
    }
   ],
   "source": [
    "np_results = []\n",
    "py_results = []\n",
    "\n",
    "pows = np.arange(10)\n",
    "\n",
    "for p in pows:\n",
    "    print \"Running for power {}\".format(p)\n",
    "    np_r = %timeit -n 100 -o np.power(vec,p)\n",
    "    py_r = %timeit -n 100 -o vec**p\n",
    "    \n",
    "    np_results.append(np_r.best)\n",
    "    py_results.append(py_r.best)"
   ]
  },
  {
   "cell_type": "code",
   "execution_count": 80,
   "metadata": {
    "collapsed": false
   },
   "outputs": [
    {
     "data": {
      "image/png": "[encoded data removed]",
      "text/plain": [
       "<matplotlib.figure.Figure at 0x1174de450>"
      ]
     },
     "metadata": {},
     "output_type": "display_data"
    }
   ],
   "source": [
    "fig = plt.figure()\n",
    "ax = fig.gca()\n",
    "\n",
    "ax.plot(pows,py_results,label='Python native')\n",
    "ax.plot(pows,np_results,label='Numpy native')\n",
    "ax.set_xlabel('Power')\n",
    "ax.set_ylabel('Average best cycle time')\n",
    "plt.legend(loc=4)\n",
    "ax.set_title('Comparison of integer power methods')\n",
    "plt.show()"
   ]
  },
  {
   "cell_type": "markdown",
   "metadata": {},
   "source": [
    "A few observations:\n",
    "\n",
    "- Numpy and Python have similarly fast (slow) native power implementations\n",
    "- These implementations quickly reach saturation in performance, indicative of somehting along the lines of a cache miss or memory limitation. However, repeating this tests with smaller vectors (for instance length 10,000) produce nearly identical results, suggesting that there is some real overhead associated with the numpy function."
   ]
  },
  {
   "cell_type": "markdown",
   "metadata": {},
   "source": [
    "## Some different approaches"
   ]
  },
  {
   "cell_type": "markdown",
   "metadata": {},
   "source": [
    "#### Pure multiplication"
   ]
  },
  {
   "cell_type": "code",
   "execution_count": 25,
   "metadata": {
    "collapsed": false
   },
   "outputs": [
    {
     "name": "stdout",
     "output_type": "stream",
     "text": [
      "100 loops, best of 3: 10 ms per loop\n"
     ]
    }
   ],
   "source": [
    "%timeit vec*vec*vec*vec*vec*vec*vec*vec*vec"
   ]
  },
  {
   "cell_type": "markdown",
   "metadata": {},
   "source": [
    "#### Reduction to powers of 2"
   ]
  },
  {
   "cell_type": "code",
   "execution_count": 22,
   "metadata": {
    "collapsed": false
   },
   "outputs": [
    {
     "name": "stdout",
     "output_type": "stream",
     "text": [
      "100 loops, best of 3: 4.6 ms per loop\n"
     ]
    }
   ],
   "source": [
    "%timeit (((vec**2)**2)**2)*vec"
   ]
  },
  {
   "cell_type": "markdown",
   "metadata": {},
   "source": [
    "Clearly this reduction is the fastest thusfar. This approach leads to the more generalized recursive binary power method."
   ]
  },
  {
   "cell_type": "code",
   "execution_count": 65,
   "metadata": {
    "collapsed": true
   },
   "outputs": [],
   "source": [
    "def binary(x,n):\n",
    "    if n == 0:\n",
    "        return 1\n",
    "    if n == 1:\n",
    "        return x\n",
    "    if n%2 == 0:\n",
    "        t = binary(x,n/2)\n",
    "        return t*t\n",
    "    else:\n",
    "        return x*binary(x,n-1)"
   ]
  },
  {
   "cell_type": "code",
   "execution_count": 66,
   "metadata": {
    "collapsed": false
   },
   "outputs": [
    {
     "name": "stdout",
     "output_type": "stream",
     "text": [
      "100 loops, best of 3: 3.47 ms per loop\n"
     ]
    }
   ],
   "source": [
    "%timeit binary(vec,9)"
   ]
  },
  {
   "cell_type": "code",
   "execution_count": 67,
   "metadata": {
    "collapsed": false
   },
   "outputs": [
    {
     "name": "stdout",
     "output_type": "stream",
     "text": [
      "Running for power 0\n",
      "100 loops, best of 3: 300 ns per loop\n",
      "Running for power 1\n",
      "100 loops, best of 3: 441 ns per loop\n",
      "Running for power 2\n",
      "100 loops, best of 3: 794 µs per loop\n",
      "Running for power 3\n",
      "100 loops, best of 3: 1.82 ms per loop\n",
      "Running for power 4\n",
      "100 loops, best of 3: 1.52 ms per loop\n",
      "Running for power 5\n",
      "100 loops, best of 3: 2.59 ms per loop\n",
      "Running for power 6\n",
      "100 loops, best of 3: 2.62 ms per loop\n",
      "Running for power 7\n",
      "100 loops, best of 3: 3.72 ms per loop\n",
      "Running for power 8\n",
      "100 loops, best of 3: 2.24 ms per loop\n",
      "Running for power 9\n",
      "100 loops, best of 3: 3.64 ms per loop\n"
     ]
    }
   ],
   "source": [
    "bin_results = []\n",
    "\n",
    "pows = np.arange(10)\n",
    "\n",
    "for p in pows:\n",
    "    print \"Running for power {}\".format(p)\n",
    "    bin_r = %timeit -n 100 -o binary(vec,p)\n",
    "    \n",
    "    bin_results.append(bin_r.best)"
   ]
  },
  {
   "cell_type": "code",
   "execution_count": 79,
   "metadata": {
    "collapsed": false
   },
   "outputs": [
    {
     "data": {
      "image/png": "[encoded data removed]",
      "text/plain": [
       "<matplotlib.figure.Figure at 0x1174de750>"
      ]
     },
     "metadata": {},
     "output_type": "display_data"
    }
   ],
   "source": [
    "fig = plt.figure()\n",
    "ax = fig.gca()\n",
    "\n",
    "ax.plot(pows,py_results,label='Python native')\n",
    "ax.plot(pows,np_results,label='Numpy native')\n",
    "ax.plot(pows,bin_results,label='Binary recursion')\n",
    "ax.set_xlabel('Power')\n",
    "ax.set_ylabel('Average best cycle time')\n",
    "ax.set_title('Comparison of integer power methods')\n",
    "plt.legend(loc=7)\n",
    "plt.show()"
   ]
  },
  {
   "cell_type": "markdown",
   "metadata": {},
   "source": [
    "## Scaling with large numbers\n",
    "\n",
    "Do we eventually hit the plateau that Numpy and Python reach?"
   ]
  },
  {
   "cell_type": "code",
   "execution_count": 73,
   "metadata": {
    "collapsed": false
   },
   "outputs": [
    {
     "name": "stdout",
     "output_type": "stream",
     "text": [
      "Running for power 0\n",
      "100 loops, best of 3: 5.03 ms per loop\n",
      "100 loops, best of 3: 366 µs per loop\n",
      "100 loops, best of 3: 238 ns per loop\n",
      "Running for power 100\n",
      "100 loops, best of 3: 21.7 ms per loop\n",
      "100 loops, best of 3: 23.1 ms per loop\n",
      "100 loops, best of 3: 7.42 ms per loop\n",
      "Running for power 200\n",
      "100 loops, best of 3: 23.4 ms per loop\n",
      "100 loops, best of 3: 22.9 ms per loop\n",
      "100 loops, best of 3: 8.08 ms per loop\n",
      "Running for power 300\n",
      "100 loops, best of 3: 24 ms per loop\n",
      "100 loops, best of 3: 23.2 ms per loop\n",
      "100 loops, best of 3: 9.96 ms per loop\n",
      "Running for power 400\n",
      "100 loops, best of 3: 24.4 ms per loop\n",
      "100 loops, best of 3: 24.5 ms per loop\n",
      "100 loops, best of 3: 8.69 ms per loop\n",
      "Running for power 500\n",
      "100 loops, best of 3: 24.9 ms per loop\n",
      "100 loops, best of 3: 25.7 ms per loop\n",
      "100 loops, best of 3: 12.7 ms per loop\n",
      "Running for power 600\n",
      "100 loops, best of 3: 25.7 ms per loop\n",
      "100 loops, best of 3: 26.1 ms per loop\n",
      "100 loops, best of 3: 11.2 ms per loop\n",
      "Running for power 700\n",
      "100 loops, best of 3: 26.9 ms per loop\n",
      "100 loops, best of 3: 26.1 ms per loop\n",
      "100 loops, best of 3: 13.2 ms per loop\n",
      "Running for power 800\n",
      "100 loops, best of 3: 26.1 ms per loop\n",
      "100 loops, best of 3: 26.6 ms per loop\n",
      "100 loops, best of 3: 10.6 ms per loop\n",
      "Running for power 900\n",
      "100 loops, best of 3: 26.4 ms per loop\n",
      "100 loops, best of 3: 27.8 ms per loop\n",
      "100 loops, best of 3: 11.3 ms per loop\n",
      "Running for power 1000\n",
      "100 loops, best of 3: 25.9 ms per loop\n",
      "100 loops, best of 3: 26.6 ms per loop\n",
      "100 loops, best of 3: 13.6 ms per loop\n"
     ]
    }
   ],
   "source": [
    "np_lresults = []\n",
    "py_lresults = []\n",
    "bin_lresults = []\n",
    "\n",
    "pows = 100*np.arange(11)\n",
    "\n",
    "for p in pows:\n",
    "    print \"Running for power {}\".format(p)\n",
    "    np_r = %timeit -n 100 -o np.power(vec,p)\n",
    "    py_r = %timeit -n 100 -o vec**p\n",
    "    bin_r = %timeit -n 100 -o binary(vec,p)\n",
    "    \n",
    "    np_lresults.append(np_r.best)\n",
    "    py_lresults.append(py_r.best)\n",
    "    bin_lresults.append(bin_r.best)"
   ]
  },
  {
   "cell_type": "code",
   "execution_count": 77,
   "metadata": {
    "collapsed": false
   },
   "outputs": [
    {
     "data": {
      "image/png": "[encoded data removed]",
      "text/plain": [
       "<matplotlib.figure.Figure at 0x117422e10>"
      ]
     },
     "metadata": {},
     "output_type": "display_data"
    }
   ],
   "source": [
    "fig = plt.figure()\n",
    "ax = fig.gca()\n",
    "\n",
    "ax.plot(pows,py_lresults,label='Python native')\n",
    "ax.plot(pows,np_lresults,label='Numpy native')\n",
    "ax.plot(pows,bin_lresults,label='Binary recursion')\n",
    "ax.set_xlabel('Power')\n",
    "ax.set_ylabel('Average best cycle time')\n",
    "ax.set_title('Comparison of integer power methods')\n",
    "plt.legend(loc=4)\n",
    "\n",
    "plt.show()"
   ]
  },
  {
   "cell_type": "markdown",
   "metadata": {},
   "source": [
    "#### Addendum - Verifying that native and numpy methods are still slow for small array sizes"
   ]
  },
  {
   "cell_type": "code",
   "execution_count": 81,
   "metadata": {
    "collapsed": false
   },
   "outputs": [
    {
     "name": "stdout",
     "output_type": "stream",
     "text": [
      "Running for power 0\n",
      "100 loops, best of 3: 5.33 ms per loop\n",
      "100 loops, best of 3: 426 µs per loop\n",
      "Running for power 1\n",
      "100 loops, best of 3: 21.9 ms per loop\n",
      "100 loops, best of 3: 568 µs per loop\n",
      "Running for power 2\n",
      "100 loops, best of 3: 21.7 ms per loop\n",
      "100 loops, best of 3: 718 µs per loop\n",
      "Running for power 3\n",
      "100 loops, best of 3: 22.5 ms per loop\n",
      "100 loops, best of 3: 22.2 ms per loop\n",
      "Running for power 4\n",
      "100 loops, best of 3: 22.6 ms per loop\n",
      "100 loops, best of 3: 22.1 ms per loop\n",
      "Running for power 5\n",
      "100 loops, best of 3: 22.2 ms per loop\n",
      "100 loops, best of 3: 22.6 ms per loop\n",
      "Running for power 6\n",
      "100 loops, best of 3: 22.8 ms per loop\n",
      "100 loops, best of 3: 22.7 ms per loop\n",
      "Running for power 7\n",
      "100 loops, best of 3: 23.7 ms per loop\n",
      "100 loops, best of 3: 22.7 ms per loop\n",
      "Running for power 8\n",
      "100 loops, best of 3: 22.1 ms per loop\n",
      "100 loops, best of 3: 22.9 ms per loop\n",
      "Running for power 9\n",
      "100 loops, best of 3: 23.4 ms per loop\n",
      "100 loops, best of 3: 22.8 ms per loop\n"
     ]
    }
   ],
   "source": [
    "small_vec = np.random.rand(10000) #shorter vector\n",
    "np_sresults = []\n",
    "py_sresults = []\n",
    "\n",
    "pows = np.arange(10)\n",
    "\n",
    "for p in pows:\n",
    "    print \"Running for power {}\".format(p)\n",
    "    np_r = %timeit -n 100 -o np.power(vec,p)\n",
    "    py_r = %timeit -n 100 -o vec**p\n",
    "    \n",
    "    np_sresults.append(np_r.best)\n",
    "    py_sresults.append(py_r.best)"
   ]
  },
  {
   "cell_type": "code",
   "execution_count": 84,
   "metadata": {
    "collapsed": false
   },
   "outputs": [
    {
     "data": {
      "image/png": "[encoded data removed]",
      "text/plain": [
       "<matplotlib.figure.Figure at 0x118f0b150>"
      ]
     },
     "metadata": {},
     "output_type": "display_data"
    }
   ],
   "source": [
    "fig = plt.figure()\n",
    "ax = fig.gca()\n",
    "\n",
    "ax.plot(pows,py_sresults,label='Python native')\n",
    "ax.plot(pows,np_sresults,label='Numpy native')\n",
    "#ax.plot(pows,bin_sresults,label='Binary recursion')\n",
    "ax.set_xlabel('Power')\n",
    "ax.set_ylabel('Average best cycle time')\n",
    "ax.set_title('Comparison of integer power methods (array size 10k)')\n",
    "plt.legend(loc=4)\n",
    "\n",
    "plt.show()"
   ]
  }
 ],
 "metadata": {
  "kernelspec": {
   "display_name": "Python 2",
   "language": "python",
   "name": "python2"
  },
  "language_info": {
   "codemirror_mode": {
    "name": "ipython",
    "version": 2
   },
   "file_extension": ".py",
   "mimetype": "text/x-python",
   "name": "python",
   "nbconvert_exporter": "python",
   "pygments_lexer": "ipython2",
   "version": "2.7.10"
  },
  "widgets": {
   "state": {},
   "version": "1.1.2"
  }
 },
 "nbformat": 4,
 "nbformat_minor": 0
}
